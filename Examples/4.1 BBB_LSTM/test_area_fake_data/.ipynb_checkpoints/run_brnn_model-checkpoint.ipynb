{
 "cells": [
  {
   "cell_type": "code",
   "execution_count": 1,
   "metadata": {
    "collapsed": true
   },
   "outputs": [],
   "source": [
    "import brnn_model"
   ]
  },
  {
   "cell_type": "code",
   "execution_count": 2,
   "metadata": {
    "collapsed": true
   },
   "outputs": [],
   "source": [
    "# Model can be \"test\", \"small\", \"medium\", \"large\"\n",
    "model = \"small\"\n",
    "\n",
    "#Put the path to the data here\n",
    "data_path = \"../data\"\n",
    "\n",
    "#Put the path to where you want to save the training data\n",
    "save_path = \"tensorboard/\"\n",
    "\n",
    "# The mixing degree for the prior gaussian mixture\n",
    "# As in Fortunato they report scanning\n",
    "# mix_pi \\in { 1/4, 1/2, 3/4 }\n",
    "mix_pi = 0.25\n",
    "\n",
    "# As in Fortunato they report scanning\n",
    "# log sigma1 \\in { 0, -1, -2 }\n",
    "# log sigma2 \\in { -6, -7, -8 }\n",
    "log_sigma1 = -1.0\n",
    "log_sigma2 = -7.0"
   ]
  },
  {
   "cell_type": "code",
   "execution_count": null,
   "metadata": {
    "scrolled": false
   },
   "outputs": [
    {
     "name": "stdout",
     "output_type": "stream",
     "text": [
      "INFO:tensorflow:Starting standard services.\n",
      "INFO:tensorflow:Saving checkpoint to path tensorboard/model.ckpt\n",
      "INFO:tensorflow:Starting queue runners.\n",
      "INFO:tensorflow:Model/global_step/sec: 0\n",
      "Epoch: 1 Learning rate: 1.000\n",
      "INFO:tensorflow:Recording summary at step 0.\n",
      "0.000 perplexity: 10008.401 speed: 316 wps\n",
      "KL is 126.21958923339844\n",
      "0.004 perplexity: 6226.155 speed: 731 wps\n",
      "KL is 126.21048736572266\n"
     ]
    }
   ],
   "source": [
    "brnn_model.main(model_select = model,\n",
    "                   dat_path = data_path,\n",
    "                   sav_path = save_path,\n",
    "                   mixing_pi = mix_pi,\n",
    "                   prior_log_sigma1 = log_sigma1,\n",
    "                   prior_log_sigma2 = log_sigma2)"
   ]
  },
  {
   "cell_type": "code",
   "execution_count": null,
   "metadata": {
    "collapsed": true
   },
   "outputs": [],
   "source": []
  }
 ],
 "metadata": {
  "kernelspec": {
   "display_name": "Python 3",
   "language": "python",
   "name": "python3"
  },
  "language_info": {
   "codemirror_mode": {
    "name": "ipython",
    "version": 3
   },
   "file_extension": ".py",
   "mimetype": "text/x-python",
   "name": "python",
   "nbconvert_exporter": "python",
   "pygments_lexer": "ipython3",
   "version": "3.6.1"
  }
 },
 "nbformat": 4,
 "nbformat_minor": 2
}
