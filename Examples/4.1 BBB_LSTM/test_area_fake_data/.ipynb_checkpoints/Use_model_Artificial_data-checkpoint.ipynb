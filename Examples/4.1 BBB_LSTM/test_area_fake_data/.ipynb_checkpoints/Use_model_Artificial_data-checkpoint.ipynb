{
 "cells": [
  {
   "cell_type": "code",
   "execution_count": 2,
   "metadata": {
    "collapsed": true
   },
   "outputs": [],
   "source": [
    "import brnn_model\n",
    "import sys  \n",
    "import import_folders\n",
    "%matplotlib inline\n",
    "import pickle_lib as pkl\n",
    "import utilities_lib as ul\n",
    "from graph_lib import gl\n",
    "import numpy as np\n",
    "## Load the data once !!\n",
    "import mpmath as mpm\n",
    "# Import specific model libraries\n",
    "from sklearn.gaussian_process import GaussianProcessRegressor\n",
    "from sklearn.gaussian_process.kernels import RBF, ConstantKernel as C, WhiteKernel, ExpSineSquared\n",
    "from sklearn import preprocessing\n",
    "from scipy import spatial\n",
    "from matplotlib import pyplot as plt\n",
    "from matplotlib import cm as cm\n",
    "\n",
    "\n",
    "plt.close(\"all\") # Close all previous Windows"
   ]
  },
  {
   "cell_type": "code",
   "execution_count": 3,
   "metadata": {
    "collapsed": false
   },
   "outputs": [
    {
     "name": "stdout",
     "output_type": "stream",
     "text": [
      "[[-0.54528207 -0.36517205 -0.11869384  0.15406647  0.4123666   0.62517832\n",
      "   0.77698334  0.86880533  0.91494263  0.93736634  0.95894053  0.99816093\n",
      "   1.06577481  1.16409374  1.28757271  1.42404264  1.55601759  1.66204776\n",
      "   1.71964781  1.70943689]]\n",
      "[[ 1.  1.  1.  1.  1.  1.  1.  1.  1.  1.  1.  1.  1.  1.  1.  1.  1.  1.\n",
      "  -1. -1.]]\n"
     ]
    }
   ],
   "source": [
    "\n",
    "########## Loading Data ###############\n",
    "\n",
    "Ndivisions = 10;\n",
    "folder_data = \"./artificial_data/\"\n",
    "\n",
    "## Test to load the files back \n",
    "X_list = pkl.load_pickle(folder_data +\"X_values.pkl\",Ndivisions)\n",
    "Y_list = pkl.load_pickle(folder_data +\"Y_values.pkl\",Ndivisions)\n",
    "\n",
    "print (X_list[0][:20].T)\n",
    "print (Y_list[0][:20].T)"
   ]
  },
  {
   "cell_type": "code",
   "execution_count": null,
   "metadata": {
    "collapsed": true
   },
   "outputs": [],
   "source": []
  }
 ],
 "metadata": {
  "anaconda-cloud": {},
  "kernelspec": {
   "display_name": "Python [default]",
   "language": "python",
   "name": "python3"
  },
  "language_info": {
   "codemirror_mode": {
    "name": "ipython",
    "version": 3
   },
   "file_extension": ".py",
   "mimetype": "text/x-python",
   "name": "python",
   "nbconvert_exporter": "python",
   "pygments_lexer": "ipython3",
   "version": "3.5.2"
  }
 },
 "nbformat": 4,
 "nbformat_minor": 2
}
