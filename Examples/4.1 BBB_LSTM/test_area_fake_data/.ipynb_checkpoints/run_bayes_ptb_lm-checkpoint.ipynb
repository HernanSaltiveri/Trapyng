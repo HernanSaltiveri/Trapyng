{
 "cells": [
  {
   "cell_type": "code",
   "execution_count": null,
   "metadata": {
    "scrolled": false
   },
   "outputs": [
    {
     "name": "stdout",
     "output_type": "stream",
     "text": [
      "INFO:tensorflow:Starting standard services.\n",
      "INFO:tensorflow:Saving checkpoint to path tensorboard/model.ckpt\n",
      "INFO:tensorflow:Starting queue runners.\n",
      "INFO:tensorflow:Model/global_step/sec: 0\n",
      "Epoch: 1 Learning rate: 1.000\n",
      "INFO:tensorflow:Recording summary at step 0.\n",
      "0.004 perplexity: 8375.984 speed: 1623 wps\n",
      "0.104 perplexity: 1411.108 speed: 2317 wps\n",
      "0.204 perplexity: 1048.293 speed: 2318 wps\n",
      "INFO:tensorflow:Model/global_step/sec: 5.72637\n",
      "INFO:tensorflow:Recording summary at step 687.\n",
      "0.304 perplexity: 883.609 speed: 2290 wps\n",
      "0.404 perplexity: 785.786 speed: 2312 wps\n",
      "0.504 perplexity: 713.793 speed: 2325 wps\n",
      "INFO:tensorflow:Model/global_step/sec: 5.94069\n",
      "INFO:tensorflow:Recording summary at step 1401.\n",
      "0.604 perplexity: 647.168 speed: 2334 wps\n",
      "0.703 perplexity: 597.065 speed: 2340 wps\n",
      "0.803 perplexity: 556.689 speed: 2333 wps\n",
      "0.903 perplexity: 521.335 speed: 2337 wps\n",
      "INFO:tensorflow:Model/global_step/sec: 5.84993\n",
      "INFO:tensorflow:Recording summary at step 2103.\n",
      "Epoch: 1 Train Perplexity: 492.870\n",
      "Epoch: 1 Valid Perplexity: 269.319\n",
      "Epoch: 2 Learning rate: 1.000\n",
      "0.004 perplexity: 320.917 speed: 2451 wps\n",
      "0.104 perplexity: 268.497 speed: 2377 wps\n",
      "INFO:tensorflow:Model/global_step/sec: 5.41683\n",
      "INFO:tensorflow:Recording summary at step 2752.\n",
      "0.204 perplexity: 278.536 speed: 2362 wps\n",
      "0.304 perplexity: 271.482 speed: 2359 wps\n",
      "0.404 perplexity: 267.611 speed: 2367 wps\n",
      "INFO:tensorflow:Saving checkpoint to path tensorboard/model.ckpt\n",
      "INFO:tensorflow:Model/global_step/sec: 5.96686\n",
      "INFO:tensorflow:Recording summary at step 3468.\n",
      "0.504 perplexity: 263.522 speed: 2364 wps\n",
      "0.604 perplexity: 256.462 speed: 2361 wps\n",
      "0.703 perplexity: 251.225 speed: 2371 wps\n",
      "INFO:tensorflow:Model/global_step/sec: 5.9255\n",
      "INFO:tensorflow:Recording summary at step 4179.\n",
      "0.803 perplexity: 246.176 speed: 2373 wps\n",
      "0.903 perplexity: 240.434 speed: 2377 wps\n",
      "Epoch: 2 Train Perplexity: 236.136\n",
      "Epoch: 2 Valid Perplexity: 207.217\n",
      "Epoch: 3 Learning rate: 1.000\n",
      "0.004 perplexity: 230.379 speed: 2456 wps\n",
      "INFO:tensorflow:Model/global_step/sec: 5.483\n",
      "INFO:tensorflow:Recording summary at step 4838.\n",
      "0.104 perplexity: 187.276 speed: 2408 wps\n",
      "0.204 perplexity: 198.271 speed: 2423 wps\n",
      "0.304 perplexity: 194.611 speed: 2418 wps\n",
      "INFO:tensorflow:Model/global_step/sec: 6.04145\n",
      "INFO:tensorflow:Recording summary at step 5562.\n",
      "0.404 perplexity: 194.248 speed: 2415 wps\n",
      "0.504 perplexity: 192.165 speed: 2420 wps\n",
      "0.604 perplexity: 188.249 speed: 2423 wps\n",
      "0.703 perplexity: 186.129 speed: 2424 wps\n",
      "INFO:tensorflow:Model/global_step/sec: 6.08277\n",
      "INFO:tensorflow:Recording summary at step 6292.\n",
      "0.803 perplexity: 183.922 speed: 2423 wps\n",
      "0.903 perplexity: 180.839 speed: 2421 wps\n",
      "Epoch: 3 Train Perplexity: 178.806\n",
      "INFO:tensorflow:Saving checkpoint to path tensorboard/model.ckpt\n",
      "INFO:tensorflow:Recording summary at step 6969.\n"
     ]
    }
   ],
   "source": [
    "import ptb_word_lm_tb_BAYES as model\n",
    "model.main(_)"
   ]
  },
  {
   "cell_type": "code",
   "execution_count": null,
   "metadata": {
    "collapsed": true
   },
   "outputs": [],
   "source": []
  }
 ],
 "metadata": {
  "kernelspec": {
   "display_name": "Python 3",
   "language": "python",
   "name": "python3"
  },
  "language_info": {
   "codemirror_mode": {
    "name": "ipython",
    "version": 3
   },
   "file_extension": ".py",
   "mimetype": "text/x-python",
   "name": "python",
   "nbconvert_exporter": "python",
   "pygments_lexer": "ipython3",
   "version": "3.6.1"
  }
 },
 "nbformat": 4,
 "nbformat_minor": 2
}
